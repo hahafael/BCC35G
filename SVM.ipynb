{
 "cells": [
  {
   "cell_type": "markdown",
   "metadata": {},
   "source": [
    "Utilização do *Car Evaluation Data Set* ([https://archive.ics.uci.edu/ml/datasets/Car+Evaluation](https://archive.ics.uci.edu/ml/datasets/Car+Evaluation)) para testar o SVM.\n",
    "\n",
    "O *dataset* possui os seguintes atributos:\n",
    "* buying: vhigh, high, med, low. \n",
    "* maint: vhigh, high, med, low. \n",
    "* doors: 2, 3, 4, 5more. \n",
    "* persons: 2, 4, more. \n",
    "* lug_boot: small, med, big. \n",
    "* safety: low, med, high. \n",
    "\n",
    "E as seguintes classes: unacc, acc, good, vgood\n",
    "\n",
    "**Carregamento do dataset**:"
   ]
  },
  {
   "cell_type": "code",
   "execution_count": 11,
   "metadata": {},
   "outputs": [
    {
     "name": "stdout",
     "output_type": "stream",
     "text": [
      "(1728, 6)\n",
      "(1728,)\n"
     ]
    }
   ],
   "source": [
    "import numpy as np\n",
    "from sklearn.preprocessing import LabelEncoder\n",
    "from urllib2 import urlopen\n",
    "\n",
    "\n",
    "url = 'https://archive.ics.uci.edu/ml/machine-learning-databases/car/car.data'\n",
    "filedata = urlopen(url)\n",
    "data = filedata.read()\n",
    "dataset = np.array([s.split(',') for s in data.split('\\n')][:-1])\n",
    "\n",
    "# Transformação dos valores de categórico para numérico\n",
    "le = LabelEncoder()\n",
    "features = np.array([le.fit_transform(f) for f in dataset[:, :-1].T]).T\n",
    "print features.shape\n",
    "\n",
    "# obtendo a coluna com as respostas\n",
    "labels = dataset[:, -1]\n",
    "print labels.shape"
   ]
  },
  {
   "cell_type": "markdown",
   "metadata": {},
   "source": [
    "**Escolhendo os hiperparâmetros**:"
   ]
  },
  {
   "cell_type": "code",
   "execution_count": 19,
   "metadata": {},
   "outputs": [
    {
     "name": "stdout",
     "output_type": "stream",
     "text": [
      "0.721 (+/-0.015) for {'kernel': 'linear', 'C': 1}\n",
      "0.725 (+/-0.018) for {'kernel': 'linear', 'C': 10}\n",
      "0.726 (+/-0.028) for {'kernel': 'linear', 'C': 100}\n",
      "0.818 (+/-0.037) for {'kernel': 'rbf', 'C': 1, 'gamma': 0.1}\n",
      "0.699 (+/-0.001) for {'kernel': 'rbf', 'C': 1, 'gamma': 0.01}\n",
      "0.699 (+/-0.001) for {'kernel': 'rbf', 'C': 1, 'gamma': 0.001}\n",
      "0.973 (+/-0.013) for {'kernel': 'rbf', 'C': 10, 'gamma': 0.1}\n",
      "0.719 (+/-0.015) for {'kernel': 'rbf', 'C': 10, 'gamma': 0.01}\n",
      "0.699 (+/-0.001) for {'kernel': 'rbf', 'C': 10, 'gamma': 0.001}\n",
      "0.993 (+/-0.011) for {'kernel': 'rbf', 'C': 100, 'gamma': 0.1}\n",
      "0.901 (+/-0.032) for {'kernel': 'rbf', 'C': 100, 'gamma': 0.01}\n",
      "0.706 (+/-0.007) for {'kernel': 'rbf', 'C': 100, 'gamma': 0.001}\n",
      "\n",
      "Melhores parâmetros calculados: {'kernel': 'rbf', 'C': 100, 'gamma': 0.1}\n",
      "              precision    recall  f1-score   support\n",
      "\n",
      "         acc       0.99      0.97      0.98        73\n",
      "        good       0.90      0.95      0.92        19\n",
      "       unacc       1.00      1.00      1.00       244\n",
      "       vgood       1.00      1.00      1.00        10\n",
      "\n",
      "   micro avg       0.99      0.99      0.99       346\n",
      "   macro avg       0.97      0.98      0.98       346\n",
      "weighted avg       0.99      0.99      0.99       346\n",
      "\n"
     ]
    }
   ],
   "source": [
    "from sklearn.metrics import classification_report as report\n",
    "from sklearn.model_selection import GridSearchCV, train_test_split\n",
    "from sklearn import svm\n",
    "\n",
    "\n",
    "# Dividindo em conjuntos de treino (80%) e teste (20%)\n",
    "X_train, X_test, y_train, y_test = train_test_split(features, labels, test_size=0.2, shuffle=True)\n",
    "\n",
    "# Configurando todas as combinações de hiperparâmetros\n",
    "param_grid = [\n",
    "    {'C': [1, 10, 100], 'kernel': ['linear']},\n",
    "    {'C': [1, 10, 100], 'gamma': [0.1, 0.01, 0.001], 'kernel': ['rbf']},\n",
    "]\n",
    "\n",
    "svc = svm.SVC(gamma=\"scale\")\n",
    "clf = GridSearchCV(svc, param_grid, cv=5)\n",
    "clf.fit(X_train, y_train)\n",
    "\n",
    "means = clf.cv_results_['mean_test_score']\n",
    "stds = clf.cv_results_['std_test_score']\n",
    "for mean, std, params in zip(means, stds, clf.cv_results_['params']):\n",
    "    print(\"%0.3f (+/-%0.03f) for %r\" % (mean, std * 2, params))\n",
    "print \n",
    "print \"Melhores parâmetros calculados:\", clf.best_params_\n",
    "y_true, y_pred = y_test, clf.predict(X_test)\n",
    "print report(y_true, y_pred)"
   ]
  },
  {
   "cell_type": "code",
   "execution_count": null,
   "metadata": {},
   "outputs": [],
   "source": []
  }
 ],
 "metadata": {
  "kernelspec": {
   "display_name": "Python 2",
   "language": "python",
   "name": "python2"
  },
  "language_info": {
   "codemirror_mode": {
    "name": "ipython",
    "version": 2
   },
   "file_extension": ".py",
   "mimetype": "text/x-python",
   "name": "python",
   "nbconvert_exporter": "python",
   "pygments_lexer": "ipython2",
   "version": "2.7.13"
  }
 },
 "nbformat": 4,
 "nbformat_minor": 2
}
